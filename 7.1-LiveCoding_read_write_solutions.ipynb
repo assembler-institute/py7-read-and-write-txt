{
 "cells": [
  {
   "cell_type": "markdown",
   "id": "95b95509",
   "metadata": {},
   "source": [
    "# LiveCoding: Read and Write a .txt File (solutions)\n",
    "\n",
    "by [Luciano Gabbanelli](https://www.linkedin.com/in/luciano-gabbanelli-ph-d-75302218)"
   ]
  },
  {
   "cell_type": "markdown",
   "id": "653763f2",
   "metadata": {},
   "source": [
    "<img width=80 src=\"https://media.giphy.com/media/KAq5w47R9rmTuvWOWa/giphy.gif\">\n",
    "\n",
    "<img width=150 src=\"Images/Assembler.png\">\n",
    "\n",
    "***"
   ]
  },
  {
   "cell_type": "markdown",
   "id": "3fa78e22",
   "metadata": {},
   "source": [
    "## What is a .txt file?"
   ]
  },
  {
   "cell_type": "markdown",
   "id": "9e334f35",
   "metadata": {},
   "source": [
    "- A .txt file is a standard text document that contains plain text.\n",
    "- Text documents contain little to no formatting.\n",
    "- They are used to store text-based information.\n",
    "- It can be opened and edited in any text-editing or word-processing program."
   ]
  },
  {
   "cell_type": "markdown",
   "id": "7fd0ded1",
   "metadata": {},
   "source": [
    "## What is a CSV file?\n",
    "\n",
    "CSV stands for “Comma Separated Values”. It is the simplest form of storing data in tabular form as plain text. Because it’s a plain text file, it can contain only actual text data—in other words, printable ASCII or Unicode characters.\n",
    "\n",
    "They are capable of handling large amounts of data, and they are a convenient way to export this data from spreadsheets and databases as well as import or use it in other programs. \n",
    "\n",
    "It is important to know to work with CSV because we mostly rely on CSV data in our day-to-day lives as data scientists. For example, you might export the results of a data mining program to a CSV file and then import that into a spreadsheet to analyze the data, generate graphs for a presentation, or prepare a report for publication."
   ]
  },
  {
   "cell_type": "markdown",
   "id": "38b68e67",
   "metadata": {},
   "source": [
    "- See for example a 'Salary_Data.csv' file. Its structure goes as follows:\n",
    "\n",
    "> $\\hspace{10pt}$ years_experience,salary <br>\n",
    "> $\\hspace{10pt}$ 1.1,39343.00 <br>\n",
    "> $\\hspace{10pt}$ 1.3,46205.00 <br>\n",
    "> $\\hspace{10pt}$ 1.5,37731.00 <br>\n",
    "> $\\hspace{10pt}$ 2.0,43525.00 <br>\n",
    "> $\\hspace{10pt}$ ..."
   ]
  },
  {
   "cell_type": "markdown",
   "id": "2f0c8717",
   "metadata": {},
   "source": [
    "**Structure:**\n",
    "1. Each piece of data is separated by a comma.\n",
    "2. Normally, the first line identifies each piece of data—in other words, the name of a data column.\n",
    "3. Every subsequent line after that is actual data and is limited only by file size constraints.\n",
    "4. The separator character is called a delimiter, and the comma is not the only one used. Other popular delimiters include the tab (\\t), colon (:) and semi-colon (;) characters.\n",
    "5. Properly parsing a CSV file requires us to know which delimiter is being used."
   ]
  },
  {
   "cell_type": "markdown",
   "id": "2b85f427",
   "metadata": {},
   "source": [
    "## .txt reading methods"
   ]
  },
  {
   "cell_type": "markdown",
   "id": "650ec5b1",
   "metadata": {},
   "source": [
    "Let us look at several ways to read text files in Python.\n",
    "\n",
    "- Drag and dropp the 'Assembler_School.txt' file in a folder called 'Files' (create it if you haven't already) inside your MDS root folder where this Jupyter Notebook is located.\n",
    "\n",
    "\n",
    "- To open the file, use the built-in `open()` function.\n",
    "\n",
    "> **Syntax:**\n",
    "> \n",
    "> `open(path_to_file, mode, encoding)`\n",
    ">\n",
    "> | Mode  | Description  |\n",
    "> | :---: | :---: |\n",
    "> | `'r'` | Open for text file for reading text |\n",
    "> | `'w'` | Open a text file for writing text |\n",
    "> | `'a'` | Open a text file for appending text |\n",
    ">\n",
    "\n",
    "- The `open()` function returns a file object, which has `read()`, `readline()`, or `readlines()` methods for reading the content of the file.\n",
    "\n",
    "\n",
    "- Be careful with the location of the file. You will need to specify the file path if the .txt is not in the same folder as this notebook.\n",
    "\n",
    "\n",
    "-  Reading text methods:\n",
    "\n",
    "    1. Loop through the file line by line  &rarr; **Go to the first code cell**\n",
    "    \n",
    "    2.  `read()` : read all text from a file into a string. This method is useful if you have a small file and you want to manipulate the whole text of that file. You can also specify how many characters you want to return.\n",
    "    \n",
    "    3. `readline()` : read the text file line by line and return all the lines as strings.\n",
    "    \n",
    "    4. `readlines()` : read all the lines of the text file and return them as a list of strings.\n",
    "\n",
    "\n",
    "- If there are no specifications, the open command works fine with ASCII text files ([American Standard Code for Information Interchange](https://en.wikipedia.org/wiki/ASCII))<a name=\"cite_ref-1\"></a>[<sup>[1]</sup>](#cite_note-1). However, if you are dealing with other languages (for example, if accents are present in your text file), you will need to specify the `encoding` parameter to determine the character encoding<a name=\"cite_ref-2\"></a>[<sup>[2]</sup>](#cite_note-2), because computers don\\'t actually know what text is. By specifying the encoding as `open(path_to_file, mode, encoding='utf-8')`, accents and other characters will be displayed correctly. You are now using the UTF-8 ([8-bit Unicode (or Universal Coded Character Set) Transformation Format](https://en.wikipedia.org/wiki/UTF-8))<a name=\"cite_ref-3\"></a>[<sup>[3]</sup>](#cite_note-3) encoding for text files.\n",
    "\n",
    "<br>\n",
    "\n",
    "<a name=\"cite_note-1\"></a> [[1]](#cite_ref-1) ASCII is a character encoding standard for electronic communication. ASCII codes represent text in computers, telecommunications equipment, and other devices. Most modern character-encoding schemes are based on ASCII.\n",
    "\n",
    "<a name=\"cite_note-2\"></a> [[2]](#cite_ref-2) Character encodings are systems that map characters to numbers. Each character is given a specific ID number. This way, computers can actually read and understand characters. Try, for instance, the commands `ord(\"💩\")` or `ord(\"a\")`.\n",
    "\n",
    "<a name=\"cite_note-3\"></a> [[3]](#cite_ref-3) UTF-8 is a variable-width character encoding used for electronic communication, defined by the [Unicode Standard](https://en.wikipedia.org/wiki/Unicode). UTF-8 is capable of encoding all 1_112_064 valid character code points in Unicode using one to four one-byte (8-bit) code units. Code points with lower numerical values, which tend to occur more frequently, are encoded using fewer bytes. It was designed for backward compatibility with ASCII: the first 128 characters of Unicode, which correspond one-to-one with ASCII, are encoded using a single byte with the same binary value as ASCII, so that valid ASCII text is valid UTF-8-encoded Unicode as well. UTF-8 is the dominant encoding for the World Wide Web (and internet technologies), accounting for 98% of all web pages, and up to 100.0% for some languages, as of 2022."
   ]
  },
  {
   "cell_type": "markdown",
   "id": "b4af663a",
   "metadata": {},
   "source": [
    "### Line by line loop"
   ]
  },
  {
   "cell_type": "code",
   "execution_count": 1,
   "id": "7b5fc4bb",
   "metadata": {},
   "outputs": [
    {
     "name": "stdout",
     "output_type": "stream",
     "text": [
      "Hello! Welcome to Assembler_School.txt\n",
      "\n",
      "This file is for testing purposes.\n",
      "\n",
      "\n",
      "\n",
      "Good Luck!\n"
     ]
    }
   ],
   "source": [
    "# Type the code here:\n",
    "f = open(\"Files/Assembler_School.txt\", \"r\")\n",
    "for x in f:\n",
    "    print(x)\n",
    "# Why do we have a blanck line between lines?\n",
    "# Recall that by default the print has end = '\\n'. Try:\n",
    "# print(x, end = '')\n",
    "f.close()"
   ]
  },
  {
   "cell_type": "markdown",
   "id": "0f2b4bb7",
   "metadata": {},
   "source": [
    "It is a good practice to always close the file when you are done with it. Use the file `close()` method or your file will remain open.\n"
   ]
  },
  {
   "cell_type": "markdown",
   "id": "e89f5f8f",
   "metadata": {},
   "source": [
    "#### How do we close a file?\n",
    "\n",
    "**There is another way to close a file, but on the contrary, doing it automatically, and without calling the `close()` method.**\n",
    "\n",
    "**Task:** Count the lines of the file."
   ]
  },
  {
   "cell_type": "code",
   "execution_count": 44,
   "id": "48112b17",
   "metadata": {},
   "outputs": [
    {
     "name": "stdout",
     "output_type": "stream",
     "text": [
      "The file contains 4 lines\n"
     ]
    }
   ],
   "source": [
    "# Type the code here:\n",
    "with open(\"Files/Assembler_School.txt\", \"r\") as f:\n",
    "    num_lines = sum(1 for line in f)\n",
    "    print(f'The file contains {num_lines} lines')"
   ]
  },
  {
   "cell_type": "markdown",
   "id": "7816c69d",
   "metadata": {},
   "source": [
    "**Task:** Count also the non-blank lines of the file."
   ]
  },
  {
   "cell_type": "code",
   "execution_count": 16,
   "id": "327d4089",
   "metadata": {},
   "outputs": [
    {
     "name": "stdout",
     "output_type": "stream",
     "text": [
      "The file contains 4 lines from which only 3 are not in blanck\n"
     ]
    }
   ],
   "source": [
    "# Type the code here:\n",
    "with open(\"Files/Assembler_School.txt\", \"r\") as f:\n",
    "    num_lines = 0\n",
    "    nb_lines = 0\n",
    "    for line in f:\n",
    "        num_lines += 1\n",
    "        if line != '\\n':\n",
    "            nb_lines += 1\n",
    "print(f'The file contains {num_lines} lines from which only {nb_lines} are not in blanck')"
   ]
  },
  {
   "cell_type": "markdown",
   "id": "fb8ffbc9",
   "metadata": {},
   "source": [
    "#### Combine the loop with the `enumerate()` function\n",
    "\n",
    "When files are large and we don't want to use unnecessary memory, we can use the `enumerate()` function adding a counter to each line.\n",
    "\n",
    "`enumerate(file_pointer)` doesn’t load the entire file in memory, so this is an efficient fasted way to count lines in a file."
   ]
  },
  {
   "cell_type": "code",
   "execution_count": 10,
   "id": "d558ac2a",
   "metadata": {},
   "outputs": [
    {
     "name": "stdout",
     "output_type": "stream",
     "text": [
      "0 Hello! Welcome to Assembler_School.txt\n",
      "\n",
      "1 This file is for testing purposes.\n",
      "\n",
      "2 \n",
      "\n",
      "3 Good Luck!\n",
      "\n",
      "Total lines:  4\n"
     ]
    }
   ],
   "source": [
    "# Type the code here:\n",
    "with open(\"Files/Assembler_School.txt\", 'r') as fp:\n",
    "    for count, line in enumerate(fp):\n",
    "        print(count, line)\n",
    "        pass # You need to put something inside the loop so that the code understands that the print has no syntax errors\n",
    "\n",
    "print('\\nTotal lines: ', count + 1)"
   ]
  },
  {
   "cell_type": "markdown",
   "id": "a40b2273",
   "metadata": {},
   "source": [
    "**Go up for the remaining methods** &uarr;"
   ]
  },
  {
   "cell_type": "markdown",
   "id": "2a52dd90",
   "metadata": {},
   "source": [
    "### The `read()` method"
   ]
  },
  {
   "cell_type": "code",
   "execution_count": 11,
   "id": "fd4c3cd9",
   "metadata": {},
   "outputs": [
    {
     "name": "stdout",
     "output_type": "stream",
     "text": [
      "Hello! Welcome to Assembler_School.txt\n",
      "This file is for testing purposes.\n",
      "\n",
      "Good Luck!\n"
     ]
    }
   ],
   "source": [
    "# Type the code here:\n",
    "with open(\"Files/Assembler_School.txt\", \"r\") as f:\n",
    "    contents = f.read()\n",
    "    print(contents)"
   ]
  },
  {
   "cell_type": "code",
   "execution_count": 12,
   "id": "e298f827",
   "metadata": {},
   "outputs": [
    {
     "name": "stdout",
     "output_type": "stream",
     "text": [
      "<_io.TextIOWrapper name='Files/Assembler_School.txt' mode='r' encoding='cp1252'>\n"
     ]
    }
   ],
   "source": [
    "print(f)"
   ]
  },
  {
   "cell_type": "code",
   "execution_count": 13,
   "id": "5d1409e6",
   "metadata": {},
   "outputs": [
    {
     "ename": "ValueError",
     "evalue": "I/O operation on closed file.",
     "output_type": "error",
     "traceback": [
      "\u001b[1;31m---------------------------------------------------------------------------\u001b[0m",
      "\u001b[1;31mValueError\u001b[0m                                Traceback (most recent call last)",
      "Input \u001b[1;32mIn [13]\u001b[0m, in \u001b[0;36m<cell line: 1>\u001b[1;34m()\u001b[0m\n\u001b[1;32m----> 1\u001b[0m \u001b[38;5;28mprint\u001b[39m(\u001b[43mf\u001b[49m\u001b[38;5;241;43m.\u001b[39;49m\u001b[43mread\u001b[49m\u001b[43m(\u001b[49m\u001b[38;5;241;43m51\u001b[39;49m\u001b[43m)\u001b[49m)\n",
      "\u001b[1;31mValueError\u001b[0m: I/O operation on closed file."
     ]
    }
   ],
   "source": [
    "print(f.read(51))"
   ]
  },
  {
   "cell_type": "markdown",
   "id": "afe647fb",
   "metadata": {},
   "source": [
    "Operations on files must be done from within the `with`, otherwise you will find a closed file."
   ]
  },
  {
   "cell_type": "code",
   "execution_count": 14,
   "id": "946d2a92",
   "metadata": {
    "scrolled": true
   },
   "outputs": [
    {
     "name": "stdout",
     "output_type": "stream",
     "text": [
      "Hello! Welcome to Assembler_School.txt\n",
      "This file is\n"
     ]
    }
   ],
   "source": [
    "# Type the code here:\n",
    "with open(\"Files/Assembler_School.txt\", \"r\") as f:\n",
    "    print(f.read(51))"
   ]
  },
  {
   "cell_type": "markdown",
   "id": "a632a6a0",
   "metadata": {},
   "source": [
    "**Go up for the remaining methods** &uarr;"
   ]
  },
  {
   "cell_type": "markdown",
   "id": "6393a0af",
   "metadata": {},
   "source": [
    "### The `readline()` method"
   ]
  },
  {
   "cell_type": "markdown",
   "id": "28c0daaa",
   "metadata": {},
   "source": [
    "Another option is to use the `readline()` method, which only returns one line."
   ]
  },
  {
   "cell_type": "code",
   "execution_count": 39,
   "id": "8c487d71",
   "metadata": {},
   "outputs": [
    {
     "name": "stdout",
     "output_type": "stream",
     "text": [
      "Hello! Welcome to Assembler_School.txt\n",
      "\n"
     ]
    }
   ],
   "source": [
    "# Type the code here:\n",
    "with open(\"Files/Assembler_School.txt\", \"r\") as f:\n",
    "    print(f.readline())"
   ]
  },
  {
   "cell_type": "markdown",
   "id": "4a93a0f0",
   "metadata": {},
   "source": [
    "By calling `readline()` twice, you can read the first two lines, and so on increasing the number of calls to the method."
   ]
  },
  {
   "cell_type": "code",
   "execution_count": 136,
   "id": "6f74c40a",
   "metadata": {},
   "outputs": [
    {
     "name": "stdout",
     "output_type": "stream",
     "text": [
      "Hello! Welcome to Assembler_School.txt\n",
      "This file is for testing purposes.\n"
     ]
    }
   ],
   "source": [
    "# Type the code here:\n",
    "with open(\"Files/Assembler_School.txt\", \"r\") as f:\n",
    "    print(f.readline(), end = '')\n",
    "    print(f.readline(), end = '')"
   ]
  },
  {
   "cell_type": "markdown",
   "id": "2b69c007",
   "metadata": {},
   "source": [
    "The same sentence is usually not repeated several times in the same code. Let's implement a loop to read all lines."
   ]
  },
  {
   "cell_type": "code",
   "execution_count": 138,
   "id": "41d64f3a",
   "metadata": {},
   "outputs": [
    {
     "name": "stdout",
     "output_type": "stream",
     "text": [
      "Hello! Welcome to Assembler_School.txt\n",
      "\n",
      "This file is for testing purposes.\n",
      "\n",
      "\n",
      "\n",
      "Good Luck!\n"
     ]
    }
   ],
   "source": [
    "# Type some code here:\n",
    "with open(\"Files/Assembler_School.txt\", \"r\") as f:\n",
    "    for line in f.readlines() :\n",
    "        print(line)"
   ]
  },
  {
   "cell_type": "markdown",
   "id": "3137fda3",
   "metadata": {},
   "source": [
    "Or you can implement a list comprehension:"
   ]
  },
  {
   "cell_type": "code",
   "execution_count": 33,
   "id": "1bfa4716",
   "metadata": {},
   "outputs": [
    {
     "name": "stdout",
     "output_type": "stream",
     "text": [
      "['Hello! Welcome to Assembler_School.txt\\n', 'This file is for testing purposes.\\n', '\\n', 'Good Luck!']\n"
     ]
    }
   ],
   "source": [
    "# Type the code here:\n",
    "with open(\"Files/Assembler_School.txt\", \"r\") as f:\n",
    "    lines = [line for line in f]\n",
    "print(lines)"
   ]
  },
  {
   "cell_type": "markdown",
   "id": "07647972",
   "metadata": {},
   "source": [
    "Or using a `while` loop:"
   ]
  },
  {
   "cell_type": "code",
   "execution_count": 38,
   "id": "96466258",
   "metadata": {
    "scrolled": true
   },
   "outputs": [
    {
     "name": "stdout",
     "output_type": "stream",
     "text": [
      "Hello! Welcome to Assembler_School.txt\n",
      "This file is for testing purposes.\n",
      "\n",
      "Good Luck!"
     ]
    }
   ],
   "source": [
    "# Type the code here:\n",
    "with open(\"Files/Assembler_School.txt\", \"r\") as f:\n",
    "    a_line = f.readline()\n",
    "    print(a_line, end = '')\n",
    "    while  a_line:\n",
    "        a_line = f.readline()\n",
    "        print(a_line, end = '')"
   ]
  },
  {
   "cell_type": "markdown",
   "id": "574e2dee",
   "metadata": {},
   "source": [
    "**Go up for the remaining methods** &uarr;"
   ]
  },
  {
   "cell_type": "markdown",
   "id": "f2088712",
   "metadata": {},
   "source": [
    "### The `readlines()` method"
   ]
  },
  {
   "cell_type": "code",
   "execution_count": 39,
   "id": "4e2923ab",
   "metadata": {},
   "outputs": [
    {
     "name": "stdout",
     "output_type": "stream",
     "text": [
      "['Hello! Welcome to Assembler_School.txt\\n', 'This file is for testing purposes.\\n', '\\n', 'Good Luck!']\n"
     ]
    }
   ],
   "source": [
    "# Type the code here:\n",
    "with open(\"Files/Assembler_School.txt\", \"r\") as f:\n",
    "    print(f.readlines())"
   ]
  },
  {
   "cell_type": "markdown",
   "id": "eee0cbce",
   "metadata": {},
   "source": [
    "The information in the list can be extracted with a `for` statement. \n",
    "\n",
    "**Task:** Count again how many lines the file has."
   ]
  },
  {
   "cell_type": "code",
   "execution_count": 143,
   "id": "f7b90b2b",
   "metadata": {},
   "outputs": [
    {
     "name": "stdout",
     "output_type": "stream",
     "text": [
      "The file has 4 lines. They are:\n",
      "\n",
      "Line 1: Hello! Welcome to Assembler_School.txt\n",
      "\n",
      "Line 2: This file is for testing purposes.\n",
      "\n",
      "Line 3: \n",
      "\n",
      "Line 4: Good Luck!\n"
     ]
    }
   ],
   "source": [
    "# Type the code here:\n",
    "with open(\"Files/Assembler_School.txt\", \"r\") as f:\n",
    "    lines = f.readlines()\n",
    "    \n",
    "count = 0\n",
    "print(f'The file has {len(lines)} lines. They are:\\n')\n",
    "for line in lines:\n",
    "    count += 1\n",
    "    print(f'Line {count}: {line}')    "
   ]
  },
  {
   "cell_type": "code",
   "execution_count": 41,
   "id": "60d9e94b",
   "metadata": {},
   "outputs": [
    {
     "data": {
      "text/plain": [
       "['Hello! Welcome to Assembler_School.txt\\n',\n",
       " 'This file is for testing purposes.\\n',\n",
       " '\\n',\n",
       " 'Good Luck!']"
      ]
     },
     "execution_count": 41,
     "metadata": {},
     "output_type": "execute_result"
    }
   ],
   "source": [
    "lines"
   ]
  },
  {
   "cell_type": "markdown",
   "id": "34498d19",
   "metadata": {},
   "source": [
    "## The `seek()` method\n",
    "\n",
    "Python file method `seek()` sets the file's current position at the offset.\n",
    "\n",
    "> **Sintax:** `file.seek(offset)`\n",
    ">\n",
    "> `offset`: a number representing the position to set the current file stream position\n",
    "\n",
    "This method returns the new postion."
   ]
  },
  {
   "cell_type": "code",
   "execution_count": 1,
   "id": "78f2adf0",
   "metadata": {},
   "outputs": [
    {
     "name": "stdout",
     "output_type": "stream",
     "text": [
      "30\n",
      "['hool.txt\\n', 'This file is for testing purposes.\\n', '\\n', 'Good Luck!']\n"
     ]
    }
   ],
   "source": [
    "# Type the code here:\n",
    "with open(\"Files/Assembler_School.txt\", \"r\") as f:\n",
    "    # returns the offset position\n",
    "    print(f.seek(30))\n",
    "    # and the process start from that position\n",
    "    lines = f.readlines()\n",
    "    print(lines)"
   ]
  },
  {
   "cell_type": "code",
   "execution_count": 3,
   "id": "c894bd6c",
   "metadata": {
    "scrolled": true
   },
   "outputs": [
    {
     "ename": "ValueError",
     "evalue": "I/O operation on closed file.",
     "output_type": "error",
     "traceback": [
      "\u001b[1;31m---------------------------------------------------------------------------\u001b[0m",
      "\u001b[1;31mValueError\u001b[0m                                Traceback (most recent call last)",
      "Input \u001b[1;32mIn [3]\u001b[0m, in \u001b[0;36m<cell line: 1>\u001b[1;34m()\u001b[0m\n\u001b[1;32m----> 1\u001b[0m \u001b[43mf\u001b[49m\u001b[38;5;241;43m.\u001b[39;49m\u001b[43mseek\u001b[49m\u001b[43m(\u001b[49m\u001b[38;5;241;43m10\u001b[39;49m\u001b[43m)\u001b[49m\n",
      "\u001b[1;31mValueError\u001b[0m: I/O operation on closed file."
     ]
    }
   ],
   "source": [
    "f.seek(10)"
   ]
  },
  {
   "cell_type": "markdown",
   "id": "55f2b549",
   "metadata": {},
   "source": [
    "## The `tell()` method\n",
    "\n",
    "The `tell()` method returns the current file position in a file stream.\n",
    "\n",
    "> **Sintax:** `file.tell()`\n",
    ">\n",
    "> No parameter values\n",
    "\n",
    "**Tip:** You can change the current file position with the seek() method."
   ]
  },
  {
   "cell_type": "code",
   "execution_count": 62,
   "id": "8fd6046a",
   "metadata": {},
   "outputs": [
    {
     "name": "stdout",
     "output_type": "stream",
     "text": [
      "0\n"
     ]
    }
   ],
   "source": [
    "# Type some code here:\n",
    "with open(\"Files/Assembler_School.txt\", \"r\") as f:\n",
    "    print(f.tell())"
   ]
  },
  {
   "cell_type": "code",
   "execution_count": 63,
   "id": "13467f8e",
   "metadata": {},
   "outputs": [
    {
     "ename": "ValueError",
     "evalue": "I/O operation on closed file.",
     "output_type": "error",
     "traceback": [
      "\u001b[1;31m---------------------------------------------------------------------------\u001b[0m",
      "\u001b[1;31mValueError\u001b[0m                                Traceback (most recent call last)",
      "Input \u001b[1;32mIn [63]\u001b[0m, in \u001b[0;36m<cell line: 1>\u001b[1;34m()\u001b[0m\n\u001b[1;32m----> 1\u001b[0m \u001b[38;5;28mprint\u001b[39m(\u001b[43mf\u001b[49m\u001b[38;5;241;43m.\u001b[39;49m\u001b[43mtell\u001b[49m\u001b[43m(\u001b[49m\u001b[43m)\u001b[49m)\n",
      "\u001b[1;31mValueError\u001b[0m: I/O operation on closed file."
     ]
    }
   ],
   "source": [
    "print(f.tell())"
   ]
  },
  {
   "cell_type": "code",
   "execution_count": 64,
   "id": "071821ef",
   "metadata": {},
   "outputs": [
    {
     "name": "stdout",
     "output_type": "stream",
     "text": [
      "Hello! Welcome to Assembler_School.txt\n",
      "\n",
      "40\n"
     ]
    }
   ],
   "source": [
    "with open(\"Files/Assembler_School.txt\", \"r\") as f:\n",
    "    print(f.readline())\n",
    "    print(f.tell())"
   ]
  },
  {
   "cell_type": "markdown",
   "id": "ee2d00a3",
   "metadata": {},
   "source": [
    "## .txt writing methods"
   ]
  },
  {
   "cell_type": "markdown",
   "id": "68f4a040",
   "metadata": {},
   "source": [
    "First, to write to an existing file, you must add a parameter to the `open()` function for writing or appending:\n",
    "\n",
    "- `'w'` : will overwrite any existing content; if the specified file does not exist, it will be created.\n",
    "\n",
    "\n",
    "- `'a'` : will append to the end of the file; if the specified file does not exist, it  will be created.\n",
    "\n",
    "\n",
    "- `'x'` : will create a file, returns an error if the file exist.\n",
    "\n",
    "Second,  write to the text file using the `write()` or `writelines()` method."
   ]
  },
  {
   "cell_type": "markdown",
   "id": "9851fcb3",
   "metadata": {},
   "source": [
    "### The `write()` method"
   ]
  },
  {
   "cell_type": "markdown",
   "id": "9f4af88c",
   "metadata": {},
   "source": [
    "Use the `write()` function to write a list of texts to a text file."
   ]
  },
  {
   "cell_type": "code",
   "execution_count": 85,
   "id": "afbdfb65",
   "metadata": {},
   "outputs": [],
   "source": [
    "# Type the code here:\n",
    "lines = ['Readme','Now let us do something new', 'How to write text files in Python']\n",
    "\n",
    "with open('Files/readme.txt', 'w') as f:\n",
    "    for line in lines:\n",
    "        f.write(line)"
   ]
  },
  {
   "cell_type": "markdown",
   "id": "4dc31580",
   "metadata": {},
   "source": [
    "Now, let us open and read the newly created file. Also see what has been created in your 'Files' folder"
   ]
  },
  {
   "cell_type": "code",
   "execution_count": 86,
   "id": "bc950d1e",
   "metadata": {},
   "outputs": [
    {
     "name": "stdout",
     "output_type": "stream",
     "text": [
      "ReadmeNow let us do something newHow to write text files in Python\n"
     ]
    }
   ],
   "source": [
    "# Type the code here:\n",
    "with open('Files/readme.txt', 'r') as f:\n",
    "    print(f.read())"
   ]
  },
  {
   "cell_type": "markdown",
   "id": "d6599408",
   "metadata": {},
   "source": [
    "If you treat each item in the list as a line, you must concatenate it with the newline character:"
   ]
  },
  {
   "cell_type": "code",
   "execution_count": 128,
   "id": "16d862f0",
   "metadata": {},
   "outputs": [],
   "source": [
    "# Type some code here:\n",
    "# brak lines after each element:\n",
    "with open('Files/readme2.txt', 'w') as f:\n",
    "    for line in lines:\n",
    "        f.write(line)\n",
    "        f.write('\\n')"
   ]
  },
  {
   "cell_type": "code",
   "execution_count": 129,
   "id": "7278f068",
   "metadata": {},
   "outputs": [
    {
     "name": "stdout",
     "output_type": "stream",
     "text": [
      "Readme\n",
      "Now let us do something new\n",
      "How to write text files in Python\n",
      "\n"
     ]
    }
   ],
   "source": [
    "with open('Files/readme2.txt', 'r') as f:\n",
    "    print(f.read())"
   ]
  },
  {
   "cell_type": "markdown",
   "id": "9794acd0",
   "metadata": {},
   "source": [
    "But the line breaks for each list item have been put in by hand.\n",
    "\n",
    "Remove the trailing newline by hand and place it with the `join()` method:"
   ]
  },
  {
   "cell_type": "code",
   "execution_count": 99,
   "id": "cf457f15",
   "metadata": {},
   "outputs": [
    {
     "name": "stdout",
     "output_type": "stream",
     "text": [
      "['Readme', 'Now let us do something new', 'How to write text files in Python']\n",
      "Joined lines: \n",
      "\n",
      "Readme\n",
      "Now let us do something new\n",
      "How to write text files in Python\n"
     ]
    }
   ],
   "source": [
    "# Type the code here:\n",
    "print(lines)\n",
    "with open('Files/readme.txt', 'w') as f:\n",
    "    x = '\\n'.join(lines)\n",
    "    print('Joined lines: \\n\\n',x, sep = '')\n",
    "    f.write(x)"
   ]
  },
  {
   "cell_type": "markdown",
   "id": "c8003844",
   "metadata": {},
   "source": [
    "**Warning!** We are printing the joined lines of the list that has been stored in a variable. We are not printing the content of the readme.txt file.\n",
    "\n",
    "Print the content:"
   ]
  },
  {
   "cell_type": "code",
   "execution_count": 101,
   "id": "2ae08ffe",
   "metadata": {},
   "outputs": [
    {
     "name": "stdout",
     "output_type": "stream",
     "text": [
      "Readme\n",
      "Now let us do something new\n",
      "How to write text files in Python\n"
     ]
    }
   ],
   "source": [
    "# Type the code here:\n",
    "with open('Files/readme.txt', 'r') as f:\n",
    "    print(f.read())"
   ]
  },
  {
   "cell_type": "markdown",
   "id": "45b8d165",
   "metadata": {},
   "source": [
    "### The `writelines()` method"
   ]
  },
  {
   "cell_type": "markdown",
   "id": "8675b8d3",
   "metadata": {},
   "source": [
    "The `writelines()` method writes the items of a list to the file."
   ]
  },
  {
   "cell_type": "code",
   "execution_count": 121,
   "id": "b926339d",
   "metadata": {},
   "outputs": [],
   "source": [
    "new_lines = ['Woops!', '\\nI have deleted the content!', '\\nDo you understand why?']\n",
    "\n",
    "# Type the code here:\n",
    "with open('Files/readme.txt', 'w') as f:\n",
    "    f.writelines(new_lines)"
   ]
  },
  {
   "cell_type": "markdown",
   "id": "0bdda859",
   "metadata": {},
   "source": [
    "### Appending text files"
   ]
  },
  {
   "cell_type": "markdown",
   "id": "8abde76e",
   "metadata": {},
   "source": [
    "To append to a text file, you need to open the text file in appending mode.\n",
    "Let us append new lines to the `readme.txt` file"
   ]
  },
  {
   "cell_type": "code",
   "execution_count": 123,
   "id": "48e26f1b",
   "metadata": {},
   "outputs": [],
   "source": [
    "# Type the code here:\n",
    "more_lines = ['Append text files', 'The End']\n",
    "with open('Files/readme.txt', 'a') as f:\n",
    "    f.writelines('\\n'.join(more_lines))"
   ]
  },
  {
   "cell_type": "code",
   "execution_count": 124,
   "id": "1afcb64f",
   "metadata": {},
   "outputs": [
    {
     "name": "stdout",
     "output_type": "stream",
     "text": [
      "Woops!\n",
      "I have deleted the content!\n",
      "Do you understand why?Append text files\n",
      "The End\n"
     ]
    }
   ],
   "source": [
    "with open('Files/readme.txt', 'r') as f:\n",
    "    print(f.read())"
   ]
  },
  {
   "cell_type": "markdown",
   "id": "634f1b81",
   "metadata": {},
   "source": [
    "We need to insert an empty string as the first element of the list"
   ]
  },
  {
   "cell_type": "code",
   "execution_count": 125,
   "id": "5f75f52d",
   "metadata": {},
   "outputs": [],
   "source": [
    "# Type the code here:\n",
    "more_lines = ['', 'Append text files', 'The', 'End']\n",
    "\n",
    "with open('Files/readme.txt', 'a') as f:\n",
    "    f.writelines('\\n'.join(more_lines))"
   ]
  },
  {
   "cell_type": "code",
   "execution_count": 126,
   "id": "49d6388d",
   "metadata": {
    "scrolled": true
   },
   "outputs": [
    {
     "name": "stdout",
     "output_type": "stream",
     "text": [
      "Woops!\n",
      "I have deleted the content!\n",
      "Do you understand why?Append text files\n",
      "The End\n",
      "Append text files\n",
      "The\n",
      "End\n"
     ]
    }
   ],
   "source": [
    "with open('Files/readme.txt', 'r') as f:\n",
    "    print(f.read())"
   ]
  },
  {
   "cell_type": "markdown",
   "id": "f276d6fb",
   "metadata": {},
   "source": [
    "## Delete a File\n",
    "\n",
    "To delete a file, you must import the OS module, and run its `os.remove()` function:"
   ]
  },
  {
   "cell_type": "code",
   "execution_count": 127,
   "id": "e406f6a9",
   "metadata": {},
   "outputs": [],
   "source": [
    "# Type the code here:\n",
    "import os\n",
    "os.remove(\"Files/readme.txt\")"
   ]
  },
  {
   "cell_type": "code",
   "execution_count": 130,
   "id": "3b4be12f",
   "metadata": {},
   "outputs": [
    {
     "ename": "FileNotFoundError",
     "evalue": "[Errno 2] No such file or directory: 'Files/readme.txt'",
     "output_type": "error",
     "traceback": [
      "\u001b[1;31m---------------------------------------------------------------------------\u001b[0m",
      "\u001b[1;31mFileNotFoundError\u001b[0m                         Traceback (most recent call last)",
      "Input \u001b[1;32mIn [130]\u001b[0m, in \u001b[0;36m<cell line: 1>\u001b[1;34m()\u001b[0m\n\u001b[1;32m----> 1\u001b[0m \u001b[38;5;28;01mwith\u001b[39;00m \u001b[38;5;28;43mopen\u001b[39;49m\u001b[43m(\u001b[49m\u001b[38;5;124;43m'\u001b[39;49m\u001b[38;5;124;43mFiles/readme.txt\u001b[39;49m\u001b[38;5;124;43m'\u001b[39;49m\u001b[43m,\u001b[49m\u001b[43m \u001b[49m\u001b[38;5;124;43m'\u001b[39;49m\u001b[38;5;124;43mr\u001b[39;49m\u001b[38;5;124;43m'\u001b[39;49m\u001b[43m)\u001b[49m \u001b[38;5;28;01mas\u001b[39;00m f:\n\u001b[0;32m      2\u001b[0m     \u001b[38;5;28mprint\u001b[39m(f\u001b[38;5;241m.\u001b[39mread())\n",
      "\u001b[1;31mFileNotFoundError\u001b[0m: [Errno 2] No such file or directory: 'Files/readme.txt'"
     ]
    }
   ],
   "source": [
    "with open('Files/readme.txt', 'r') as f:\n",
    "    print(f.read())"
   ]
  },
  {
   "cell_type": "markdown",
   "id": "ccf546a5",
   "metadata": {},
   "source": [
    "To avoid getting an error, you might want to check if the file exists before you try to delete it:"
   ]
  },
  {
   "cell_type": "code",
   "execution_count": 131,
   "id": "fa5ae9b7",
   "metadata": {},
   "outputs": [],
   "source": [
    "import os\n",
    "if os.path.exists(\"Files/readme2.txt\"):\n",
    "    os.remove(\"Files/readme2.txt\")\n",
    "else:\n",
    "    print(\"The file does not exist\")"
   ]
  },
  {
   "cell_type": "markdown",
   "id": "bcfae55c",
   "metadata": {},
   "source": [
    "Run the same cell one more time:"
   ]
  },
  {
   "cell_type": "code",
   "execution_count": 132,
   "id": "96e86bf3",
   "metadata": {},
   "outputs": [
    {
     "name": "stdout",
     "output_type": "stream",
     "text": [
      "The file does not exist\n"
     ]
    }
   ],
   "source": [
    "import os\n",
    "if os.path.exists(\"Files/readme2.txt\"):\n",
    "    os.remove(\"Files/readme2.txt\")\n",
    "else:\n",
    "    print(\"The file does not exist\")"
   ]
  },
  {
   "cell_type": "markdown",
   "id": "804007e1",
   "metadata": {},
   "source": [
    "You can also delete an entire folder, use the `os.rmdir()` method:"
   ]
  },
  {
   "cell_type": "code",
   "execution_count": 133,
   "id": "614977ec",
   "metadata": {},
   "outputs": [
    {
     "ename": "FileNotFoundError",
     "evalue": "[WinError 2] El sistema no puede encontrar el archivo especificado: 'myfolder'",
     "output_type": "error",
     "traceback": [
      "\u001b[1;31m---------------------------------------------------------------------------\u001b[0m",
      "\u001b[1;31mFileNotFoundError\u001b[0m                         Traceback (most recent call last)",
      "Input \u001b[1;32mIn [133]\u001b[0m, in \u001b[0;36m<cell line: 2>\u001b[1;34m()\u001b[0m\n\u001b[0;32m      1\u001b[0m \u001b[38;5;28;01mimport\u001b[39;00m \u001b[38;5;21;01mos\u001b[39;00m\n\u001b[1;32m----> 2\u001b[0m \u001b[43mos\u001b[49m\u001b[38;5;241;43m.\u001b[39;49m\u001b[43mrmdir\u001b[49m\u001b[43m(\u001b[49m\u001b[38;5;124;43m\"\u001b[39;49m\u001b[38;5;124;43mmyfolder\u001b[39;49m\u001b[38;5;124;43m\"\u001b[39;49m\u001b[43m)\u001b[49m\n",
      "\u001b[1;31mFileNotFoundError\u001b[0m: [WinError 2] El sistema no puede encontrar el archivo especificado: 'myfolder'"
     ]
    }
   ],
   "source": [
    "import os\n",
    "os.rmdir(\"myfolder\")"
   ]
  }
 ],
 "metadata": {
  "kernelspec": {
   "display_name": "Python 3 (ipykernel)",
   "language": "python",
   "name": "python3"
  },
  "language_info": {
   "codemirror_mode": {
    "name": "ipython",
    "version": 3
   },
   "file_extension": ".py",
   "mimetype": "text/x-python",
   "name": "python",
   "nbconvert_exporter": "python",
   "pygments_lexer": "ipython3",
   "version": "3.9.12"
  },
  "toc": {
   "base_numbering": 1,
   "nav_menu": {},
   "number_sections": true,
   "sideBar": true,
   "skip_h1_title": true,
   "title_cell": "Table of Contents",
   "title_sidebar": "Contents",
   "toc_cell": false,
   "toc_position": {
    "height": "789px",
    "left": "805px",
    "top": "154.125px",
    "width": "255.582px"
   },
   "toc_section_display": true,
   "toc_window_display": true
  }
 },
 "nbformat": 4,
 "nbformat_minor": 5
}
