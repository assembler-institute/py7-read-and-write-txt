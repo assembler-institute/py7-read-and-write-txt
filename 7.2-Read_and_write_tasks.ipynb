{
 "cells": [
  {
   "cell_type": "markdown",
   "id": "5bc8653a",
   "metadata": {},
   "source": [
    "# Read and Write a .txt File Task Sheet"
   ]
  },
  {
   "cell_type": "markdown",
   "id": "24e9f537",
   "metadata": {},
   "source": [
    "<img width=80 src=\"https://media.giphy.com/media/KAq5w47R9rmTuvWOWa/giphy.gif\">\n",
    "\n",
    "<img width=150 src=\"Images/Assembler.png\">"
   ]
  },
  {
   "cell_type": "markdown",
   "id": "4ffc34e1",
   "metadata": {},
   "source": [
    "# Important:\n",
    "\n",
    "- Comment your code explaining what each part does when you consider it.\n",
    "- We are asking about two types of problems. The first type are solved with code cells, and the second with markdown type cells (where the solution must be thought without executing code cells). This will be indicated in each problem.\n",
    "- Please always respect the instructions. If you are asked to use higher order functions, use at least as many as requested.\n",
    "- All files created or used must be contained in a folder called \"Files\" located in the directory where you place this Jupyter notebook."
   ]
  },
  {
   "cell_type": "markdown",
   "id": "66d84f30",
   "metadata": {},
   "source": [
    "# Recommendations:\n",
    "\n",
    "- There are as many ways to solve a problem as there are people in the world. Find yours!\n",
    "- Create as many variables as you want. They cost nothing and are worth it for the sake of clarity.\n",
    "- You can add cells if needed. \n",
    "- Remember that there are two types of cells: code and markdown. Use both. Explanations never hurt.\n",
    "- There are several ways to approach the same problem. Try not to repeat your way of thinking.\n",
    "- If different syntaxes lead to the same result, explore them.\n",
    "- Use internet in a smart way. Don't look at how to solve the problem in its entirety; it is better to learn methods that lead your logical reasoning to the solution.\n",
    "- Once you have a plan to address the problem, try breaking your code into manageable chunks.\n",
    "- Use `print()` and `type()` functions in the middle of your code to understand what your code is actually doing."
   ]
  },
  {
   "cell_type": "markdown",
   "id": "9e2e1a98",
   "metadata": {},
   "source": [
    "***"
   ]
  },
  {
   "cell_type": "markdown",
   "id": "ba2a59f9",
   "metadata": {},
   "source": [
    "## Multiples of six inside a .txt\n",
    "\n",
    "Create a program that writes to a file called \"multiples_of_six\" the first 51 multiples of six."
   ]
  },
  {
   "cell_type": "code",
   "execution_count": null,
   "id": "822291b9",
   "metadata": {},
   "outputs": [],
   "source": [
    "# Type the code here:\n",
    "\n"
   ]
  },
  {
   "cell_type": "markdown",
   "id": "02ab3531",
   "metadata": {},
   "source": [
    "## Files manipultation\n",
    "\n",
    "\n",
    "### El adivino de Jorge Luis Borges\n",
    "\n",
    "- Download the 'Borges_el_adivino.txt' file, and drop it to the 'Files' folder\n",
    "\n",
    "- Write a function called `head()` that receives a .txt file and an integer N, and prints the first N lines of the file.\n",
    "\n",
    "- Write another function that prints the first character of each line."
   ]
  },
  {
   "cell_type": "code",
   "execution_count": null,
   "id": "ded8613e",
   "metadata": {},
   "outputs": [],
   "source": [
    "# Type the code here:\n",
    "\n"
   ]
  },
  {
   "cell_type": "markdown",
   "id": "894e2885",
   "metadata": {},
   "source": [
    "### Kafka, the segment\n",
    "\n",
    "Write a function that opens a .txt file, processes it, and prints the number of lines, number of words, and number of characters in that file."
   ]
  },
  {
   "cell_type": "code",
   "execution_count": null,
   "id": "0ed1c707",
   "metadata": {},
   "outputs": [],
   "source": [
    "# Type the code here:\n",
    "\n"
   ]
  },
  {
   "cell_type": "markdown",
   "id": "2fbf7158",
   "metadata": {},
   "source": [
    "### Mixing writers\n",
    "\n",
    "- Join both previous stories in a new file. Separate them with a blank line.\n",
    "\n",
    "\n",
    "- Create a function that counts how many times each word is repeated and show the final count of all of them.\n",
    "        - Punctuation marks are not part of the word.\n",
    "        - A word is the same even if it appears in upper and lower case."
   ]
  },
  {
   "cell_type": "code",
   "execution_count": null,
   "id": "52056b34",
   "metadata": {},
   "outputs": [],
   "source": [
    "# Type the code here:\n",
    "\n"
   ]
  },
  {
   "cell_type": "markdown",
   "id": "dd6c0047",
   "metadata": {},
   "source": [
    "## Otitis patient information in nested dictionaries\n",
    "\n",
    "Below you can find a dictionary with patients along with personal information (only the first surname of each patient was recorded, but all the names that appear on the DNI) and their diagnosis in Boolean format if they suffer from chronic otitis."
   ]
  },
  {
   "cell_type": "code",
   "execution_count": null,
   "id": "6587f639",
   "metadata": {},
   "outputs": [],
   "source": [
    "patients = {'Leopoldo Vidal-Ribas': {'age': 49, 'gender': 'male', 'otitis': True},\n",
    "            'Clota Anastasia Sagnier': {'age': 17, 'gender': 'female', 'otitis': False},\n",
    "            'Noah Costa': {'age': 32, 'gender': 'non-binary', 'otitis': False},\n",
    "            'María Camila Elisa Valente': {'age': 67, 'gender': 'female', 'otitis': False},\n",
    "            'Lucrecia Stanislawsky': {'age': 13, 'gender': 'female', 'otitis': True},\n",
    "            'Omar Casimiro Recolons': {'age': 51, 'gender': 'male', 'otitis': False},\n",
    "           }\n",
    "patients"
   ]
  },
  {
   "cell_type": "markdown",
   "id": "4091205f",
   "metadata": {},
   "source": [
    "We want to deliver this information in a .txt file with a structure that can be used as a database/dataframe<a name=\"cite_ref-1\"></a>[<sup>[1]</sup>](#cite_note-1). The required structure goes as follows:\n",
    "\n",
    "- A first line of heder with the fields 'surname', 'age', 'gender' and 'otitis', separated by tabs. Except for the surname, generate the headers ('age', 'gender' and 'otitis') using the keys of the patients dictionary.\n",
    "\n",
    "\n",
    "- The successive lines must contain the information of each patient in the same order as the header. Fields must always be separated by tabs on each line. Generate the entire content of the .txt using control flow statements; the algoritm must be automated for future check-ins.\n",
    "  \n",
    "  For the \"otitis\" field, it would be nice to replace the boolean `True`/`False` with `\"yes\"`/`\"no\"`. \n",
    "  \n",
    "The file must be built as required.\n",
    "\n",
    "<br>\n",
    "\n",
    "<a name=\"cite_note-1\"></a> [[1]](#cite_ref-1) You can research what databese and dataframes are.\n"
   ]
  },
  {
   "cell_type": "code",
   "execution_count": null,
   "id": "7fc86d6e",
   "metadata": {},
   "outputs": [],
   "source": [
    "# Type the code here:\n",
    "\n"
   ]
  },
  {
   "cell_type": "markdown",
   "id": "8965fd4f",
   "metadata": {},
   "source": [
    "## File content multiplier function\n",
    "\n",
    "See problem **11 Fibonacci? Who is Fibonacci?** from *'3.3-Control_flow_tasks'*"
   ]
  },
  {
   "cell_type": "markdown",
   "id": "7699d055",
   "metadata": {},
   "source": [
    "Write a function called `file_content_multiplier` that takes the numerical content of a .txt file and returns the product of all the numbers it contains.\n",
    "\n",
    "The structure of the .txt that the function must read is a sequence of numbers separated by hyphens: these are the numbers to multiply.\n",
    "\n",
    "In addition to writing the function, which should be reusable for any file with this structure, write a test file to check that the function actually works. Do we use the Fibonacci sequence? So we can recycle already written code, buuuut with some modifications to learn something new ;)\n",
    "\n",
    "- **Test file preparation:** write a program that creates a file called \"Fibo\" with the first 10 even terms of the Fibonacci sequence separated by hyphens (review the exercise if needed).\n",
    "\n",
    "  Use at least one higer-order function where you deem suitable.\n",
    "\n",
    "  0 is odd or even? You will have to leave it aside. Can you imagine why? \n",
    "\n",
    "\n",
    "- Write a function whose only parameter is the name of the file (without a directory or .txt format), which reads the file and returns the result of multiplying all the numbers it contains.\n",
    "\n",
    "  This time, can you please use at least two higher-order functions inside the function `file_content_multiplier`?\n",
    "\n",
    "<br>\n",
    "\n",
    "**Do you want a little help?** \n",
    "\n",
    "The solution is `10241959016027943927469729382400` \n",
    "\n",
    "because\n",
    "\n",
    "`2 * 8 * 34 * 144 * 610 * 2584 * 10946 * 46368 * 196418 * 832040 = 10241959016027943927469729382400`"
   ]
  },
  {
   "cell_type": "code",
   "execution_count": null,
   "id": "7cc29cea",
   "metadata": {},
   "outputs": [],
   "source": [
    "# Type the code here:\n",
    "# File preparation:\n",
    "\n"
   ]
  },
  {
   "cell_type": "markdown",
   "id": "78733554",
   "metadata": {},
   "source": [
    "## Extracting data from a database\n",
    "\n",
    "Let us use the recently created patient .txt file to extract data of interest. Select adult patients (over 20 years of age) who are hearing healthy. Return a .txt file with that information.\n",
    "\n",
    "Each patient must be stored on a new line and their features (surname, age, sex and otitis) must be separated by commas<a name=\"cite_ref-1\"></a>[<sup>[1]</sup>](#cite_note-1).\n",
    "\n",
    "Always encapsulate methods and procedures within functions. Create at least 4 functions: one to read the file, one to filter patients of interest, and one to write the .txt file. For the fourth mandatory function you have free will to do what you want. Remember that functions can call functions. Implement this. Also use as many arguments as you can in each function. In this way, when executing the functions, the original file is read and as a result, another file is returned with the selected patients with their features separated by commas. \n",
    "\n",
    "<br>\n",
    "\n",
    "<a name=\"cite_note-1\"></a> [[1]](#cite_ref-1) Comma separaated values is a usual structure for storing dataframes. Did you Google it?"
   ]
  },
  {
   "cell_type": "code",
   "execution_count": null,
   "id": "47677ad0",
   "metadata": {},
   "outputs": [],
   "source": [
    "# Type the code here:\n",
    "\n"
   ]
  },
  {
   "cell_type": "markdown",
   "id": "322ba2d6",
   "metadata": {},
   "source": [
    "## Cryptocurrency\n",
    "\n",
    "**Text preparation:** Run the following cells:\n",
    "\n",
    "**Contents:** Evolution of cryptos prices in 2022, 2021, 2020, 2019 and 2018 (in this order)"
   ]
  },
  {
   "cell_type": "code",
   "execution_count": null,
   "id": "e483315e",
   "metadata": {},
   "outputs": [],
   "source": [
    "lines = ['Bitcoin: 47_345.22 - 29_374.15 - 7_200.17 - 3_843.52 - 15_599.20',\n",
    "         'Ethereum: 3_829.57 - 975.51 - 134.17 - 155.05 - 772.64',\n",
    "         'Tether: 1.0005 - 1.0006 - 0.9998 - 1.0172 - 1.0049',\n",
    "         'BNB: 531.40 - 38.24 - 13.03 - 6.1886 - 8.4146',\n",
    "         'XRP: 0.8591 - 0.2374 - 0.1944 - 0.3602 - 3.0487',\n",
    "         'Monero: 250.21 - 138.06 - 45.75 - 49.82 - 412.06']\n",
    "\n",
    "with open('Files/cryptocurrency.txt', 'w') as f:\n",
    "    for line in lines:\n",
    "        f.write(line)\n",
    "        f.write('\\n')"
   ]
  },
  {
   "cell_type": "code",
   "execution_count": null,
   "id": "1d6df869",
   "metadata": {},
   "outputs": [],
   "source": [
    "with open('Files/cryptocurrency.txt', 'r') as f:\n",
    "    print(f.read())"
   ]
  },
  {
   "cell_type": "markdown",
   "id": "c0b56abd",
   "metadata": {},
   "source": [
    "**Task:**\n",
    "\n",
    "In the file called cryptocurrency.txt you can find the annual evolution of prices of 6 different cryptocurrencies between 2018 and 2022.\n",
    "\n",
    "Write an algorithm that reads this file, calculates the average value of each cryptocurrency in the 5 recorded years, and compares this value with its price in 2018. As output, all cryptocurrencies should be classified in 3 different cases. Each case must be characterized by one of the following texts that must be printed on screen:\n",
    "\n",
    "- The average price of .....cripto_name..... in the last 5 years fell more than 20% compared to its value in 2018.\n",
    "\n",
    "- The average price of .....cripto_name..... in the last 5 years rose more than 20% compared to its value in 2018.\n",
    "\n",
    "- The average price of .....cripto_name..... in the last 5 years remained more or less constant compared to its value in 2018.\n",
    "\n",
    "depending on what has happened with each cryptocurrency.\n",
    "\n",
    "In addition, the algorithm must create a file with the printed information.\n",
    "\n",
    "**You must uase at least one higher-order function.** \n",
    "\n",
    "The one you like most!\n",
    "\n",
    "<br/>\n",
    "\n",
    "**Tip:** You can take advantage of [Regular Expression Operations](https://docs.python.org/3/library/re.html) to split a line by more than one character. See how to do it on Google. Be careful! The syntax is slightly different when you use split with this module."
   ]
  },
  {
   "cell_type": "code",
   "execution_count": null,
   "id": "e122fffd",
   "metadata": {},
   "outputs": [],
   "source": [
    "# Type the code here:\n",
    "\n"
   ]
  }
 ],
 "metadata": {
  "kernelspec": {
   "display_name": "Python 3 (ipykernel)",
   "language": "python",
   "name": "python3"
  },
  "language_info": {
   "codemirror_mode": {
    "name": "ipython",
    "version": 3
   },
   "file_extension": ".py",
   "mimetype": "text/x-python",
   "name": "python",
   "nbconvert_exporter": "python",
   "pygments_lexer": "ipython3",
   "version": "3.9.12"
  },
  "toc": {
   "base_numbering": 1,
   "nav_menu": {},
   "number_sections": true,
   "sideBar": true,
   "skip_h1_title": true,
   "title_cell": "Table of Contents",
   "title_sidebar": "Contents",
   "toc_cell": false,
   "toc_position": {
    "height": "calc(100% - 180px)",
    "left": "10px",
    "top": "150px",
    "width": "203.108px"
   },
   "toc_section_display": true,
   "toc_window_display": false
  }
 },
 "nbformat": 4,
 "nbformat_minor": 5
}
