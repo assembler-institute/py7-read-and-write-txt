{
 "cells": [
  {
   "cell_type": "markdown",
   "id": "5bc8653a",
   "metadata": {},
   "source": [
    "# Read and Write a .txt File Task Sheet (solutions)"
   ]
  },
  {
   "cell_type": "markdown",
   "id": "e2c3a7a9",
   "metadata": {},
   "source": [
    "<img width=80 src=\"https://media.giphy.com/media/KAq5w47R9rmTuvWOWa/giphy.gif\">\n",
    "\n",
    "<img width=150 src=\"Images/Assembler.png\">"
   ]
  },
  {
   "cell_type": "markdown",
   "id": "4ffc34e1",
   "metadata": {},
   "source": [
    "# Important:\n",
    "\n",
    "- Comment your code explaining what each part does when you consider it.\n",
    "- We are asking about two types of problems. The first type are solved with code cells, and the second with markdown type cells (where the solution must be thought without executing code cells). This will be indicated in each problem.\n",
    "- Please always respect the instructions. If you are asked to use higher order functions, use at least as many as requested.\n",
    "- All files created or used must be contained in a folder called \"Files\" located in the directory where you place this Jupyter notebook."
   ]
  },
  {
   "cell_type": "markdown",
   "id": "66d84f30",
   "metadata": {},
   "source": [
    "# Recommendations:\n",
    "\n",
    "- There are as many ways to solve a problem as there are people in the world. Find yours!\n",
    "- Create as many variables as you want. They cost nothing and are worth it for the sake of clarity.\n",
    "- You can add cells if needed. \n",
    "- Remember that there are two types of cells: code and markdown. Use both. Explanations never hurt.\n",
    "- There are several ways to approach the same problem. Try not to repeat your way of thinking.\n",
    "- If different syntaxes lead to the same result, explore them.\n",
    "- Use internet in a smart way. Don't look at how to solve the problem in its entirety; it is better to learn methods that lead your logical reasoning to the solution.\n",
    "- Once you have a plan to address the problem, try breaking your code into manageable chunks.\n",
    "- Use `print()` and `type()` functions in the middle of your code to understand what your code is actually doing."
   ]
  },
  {
   "cell_type": "markdown",
   "id": "9e2e1a98",
   "metadata": {},
   "source": [
    "***"
   ]
  },
  {
   "cell_type": "markdown",
   "id": "ba2a59f9",
   "metadata": {},
   "source": [
    "## Multiples of six inside a .txt\n",
    "\n",
    "Create a program that writes to a file called \"multiples_of_six\" the first 51 multiples of six."
   ]
  },
  {
   "cell_type": "code",
   "execution_count": 3,
   "id": "822291b9",
   "metadata": {},
   "outputs": [],
   "source": [
    "# Type the code here:\n",
    "count = 1\n",
    "number = 0\n",
    "\n",
    "with open('Files/multiples_of_six.txt', 'w') as f_six:\n",
    "    while count <= 51:\n",
    "        if number % 6 == 0:\n",
    "            f_six.write(str(number)+'-')\n",
    "            count += 1\n",
    "        number +=1"
   ]
  },
  {
   "cell_type": "code",
   "execution_count": 4,
   "id": "b079af50",
   "metadata": {},
   "outputs": [
    {
     "name": "stdout",
     "output_type": "stream",
     "text": [
      "0-6-12-18-24-30-36-42-48-54-60-66-72-78-84-90-96-102-108-114-120-126-132-138-144-150-156-162-168-174-180-186-192-198-204-210-216-222-228-234-240-246-252-258-264-270-276-282-288-294-300-\n"
     ]
    }
   ],
   "source": [
    "with open('Files/multiples_of_six.txt', 'r') as f:\n",
    "    print(f.read())"
   ]
  },
  {
   "cell_type": "markdown",
   "id": "02ab3531",
   "metadata": {},
   "source": [
    "## Files manipultation\n",
    "\n",
    "\n",
    "### El adivino de Jorge Luis Borges\n",
    "\n",
    "- Download the 'Borges_el_adivino.txt' file, and drop it to the 'Files' folder\n",
    "\n",
    "- Write a function called `head()` that receives a .txt file and an integer N, and prints the first N lines of the file.\n",
    "\n",
    "- Write another function that prints the first character of each line."
   ]
  },
  {
   "cell_type": "code",
   "execution_count": 107,
   "id": "ded8613e",
   "metadata": {},
   "outputs": [],
   "source": [
    "# Type the code here:\n",
    "def head(name, N):\n",
    "    with open(name, \"r\", encoding='utf-8') as f:\n",
    "        for _ in range(N):\n",
    "            line = f.readline()\n",
    "            print(line, end = '')"
   ]
  },
  {
   "cell_type": "code",
   "execution_count": 108,
   "id": "882e49cf",
   "metadata": {},
   "outputs": [
    {
     "name": "stdout",
     "output_type": "stream",
     "text": [
      "El adivino\n",
      "[Minicuento. Texto completo.]\n",
      "Jorge Luis Borges\n",
      "En Sumatra, alguien quiere doctorarse de adivino.\n",
      "El brujo examinador le pregunta si será reprobado o si pasará.\n",
      "El candidato responde que será reprobado…\n",
      "FIN\n"
     ]
    }
   ],
   "source": [
    "head(\"Files/Borges_el_adivino.txt\", 15)"
   ]
  },
  {
   "cell_type": "code",
   "execution_count": 49,
   "id": "7be3dda9",
   "metadata": {},
   "outputs": [],
   "source": [
    "# Type the code here:\n",
    "def first_letter(name):\n",
    "    with open(name, \"r\", encoding='utf-8') as file:\n",
    "        for line in file:\n",
    "            print(line[0])"
   ]
  },
  {
   "cell_type": "code",
   "execution_count": 50,
   "id": "51a0987a",
   "metadata": {},
   "outputs": [
    {
     "name": "stdout",
     "output_type": "stream",
     "text": [
      "E\n",
      "[\n",
      "J\n",
      "E\n",
      "E\n",
      "E\n",
      "F\n",
      "\n",
      "\n"
     ]
    }
   ],
   "source": [
    "first_letter(\"Files/Borges_el_adivino.txt\")"
   ]
  },
  {
   "cell_type": "markdown",
   "id": "894e2885",
   "metadata": {},
   "source": [
    "### Kafka, the segment\n",
    "\n",
    "Write a function that opens a .txt file, processes it, and prints the number of lines, number of words, and number of characters in that file."
   ]
  },
  {
   "cell_type": "code",
   "execution_count": 114,
   "id": "0ed1c707",
   "metadata": {},
   "outputs": [],
   "source": [
    "# Type the code here:\n",
    "def count_things(name):\n",
    "    with open(name, \"r\", encoding='utf-8') as file:\n",
    "        lines = file.readlines()\n",
    "\n",
    "    print(lines)\n",
    "    line_counter = 0\n",
    "    word_counter = 0\n",
    "    character_counter = 0\n",
    "    for line in lines:\n",
    "        character_counter += len(line.rstrip('\\n'))\n",
    "        #print(f'{line} has {character_counter} additive characters')\n",
    "        line = line.strip('\\n[].,')\n",
    "        line_counter += 1\n",
    "        #print(line_counter,line)\n",
    "        for word in line.split(' '):\n",
    "            word_counter += 1\n",
    "            #print(word_counter, word)\n",
    "    print(f'''\n",
    "    Total number of lines: {line_counter}.\n",
    "    Total number of words: {word_counter}.\n",
    "    Total number of characters: {character_counter}.\n",
    "    ''')"
   ]
  },
  {
   "cell_type": "code",
   "execution_count": 115,
   "id": "ab746607",
   "metadata": {},
   "outputs": [
    {
     "name": "stdout",
     "output_type": "stream",
     "text": [
      "['Un segmento\\n', 'Franz Kafka, Diaries\\n', 'Le fue cortado un segmento de la parte posterior de la cabeza.\\n', 'Con el sol todo el mundo mira hacia dentro.\\n', 'Esto lo pone nervioso, lo distrae del trabajo; además, le fastidia que, justamente él, deba ser excluido del espectáculo.']\n",
      "\n",
      "    Total number of lines: 5.\n",
      "    Total number of words: 45.\n",
      "    Total number of characters: 257.\n",
      "    \n"
     ]
    }
   ],
   "source": [
    "count_things(\"Files/Kafka_segmento.txt\")"
   ]
  },
  {
   "cell_type": "markdown",
   "id": "2fbf7158",
   "metadata": {},
   "source": [
    "### Mixing writers\n",
    "\n",
    "- Join both texts in a new file. Separate them with a blank line.\n",
    "\n",
    "\n",
    "- Create a function that counts how many times each word is repeated and show the final count of all of them.\n",
    "        - Punctuation marks are not part of the word.\n",
    "        - A word is the same even if it appears in upper and lower case."
   ]
  },
  {
   "cell_type": "code",
   "execution_count": 119,
   "id": "52056b34",
   "metadata": {},
   "outputs": [],
   "source": [
    "# Type the code here:\n",
    "data1 = data2 = \"\"\n",
    "  \n",
    "with open('Files/Borges_el_adivino.txt') as fp:\n",
    "    data1 = fp.read()\n",
    "#print(data1)\n",
    "\n",
    "with open('Files/Kafka_segmento.txt') as fp:\n",
    "    data2 = fp.read()\n",
    "#print(data2)\n",
    "\n",
    "# Merging 2 files\n",
    "data1 += \"\\n\"\n",
    "data1 += data2\n",
    "  \n",
    "with open ('Files/Mixing_writers.txt', 'w') as fp:\n",
    "    fp.write(data1)"
   ]
  },
  {
   "cell_type": "code",
   "execution_count": 120,
   "id": "2e27cd1b",
   "metadata": {},
   "outputs": [
    {
     "name": "stdout",
     "output_type": "stream",
     "text": [
      "El adivino\n",
      "[Minicuento. Texto completo.]\n",
      "Jorge Luis Borges\n",
      "En Sumatra, alguien quiere doctorarse de adivino.\n",
      "El brujo examinador le pregunta si será reprobado o si pasará.\n",
      "El candidato responde que será reprobado…\n",
      "FIN\n",
      "\n",
      "Un segmento\n",
      "Franz Kafka, Diaries\n",
      "Le fue cortado un segmento de la parte posterior de la cabeza.\n",
      "Con el sol todo el mundo mira hacia dentro.\n",
      "Esto lo pone nervioso, lo distrae del trabajo; además, le fastidia que, justamente él, deba ser excluido del espectáculo.\n"
     ]
    }
   ],
   "source": [
    "with open('Files/Mixing_writers.txt', 'r', encoding='utf-8') as f:\n",
    "    print(f.read())"
   ]
  },
  {
   "cell_type": "code",
   "execution_count": 131,
   "id": "d30944c5",
   "metadata": {},
   "outputs": [
    {
     "name": "stdout",
     "output_type": "stream",
     "text": [
      "el : 5\n",
      "adivino : 2\n",
      "minicuento : 1\n",
      "texto : 1\n",
      "completo : 1\n",
      "jorge : 1\n",
      "luis : 1\n",
      "borges : 1\n",
      "en : 1\n",
      "sumatra, : 1\n",
      "alguien : 1\n",
      "quiere : 1\n",
      "doctorarse : 1\n",
      "de : 3\n",
      "brujo : 1\n",
      "examinador : 1\n",
      "le : 3\n",
      "pregunta : 1\n",
      "si : 2\n",
      "será : 2\n",
      "reprobado : 1\n",
      "o : 1\n",
      "pasará : 1\n",
      "candidato : 1\n",
      "responde : 1\n",
      "que : 1\n",
      "reprobado… : 1\n",
      "fin : 1\n",
      " : 1\n",
      "un : 2\n",
      "segmento : 2\n",
      "franz : 1\n",
      "kafka, : 1\n",
      "diaries : 1\n",
      "fue : 1\n",
      "cortado : 1\n",
      "la : 2\n",
      "parte : 1\n",
      "posterior : 1\n",
      "cabeza : 1\n",
      "con : 1\n",
      "sol : 1\n",
      "todo : 1\n",
      "mundo : 1\n",
      "mira : 1\n",
      "hacia : 1\n",
      "dentro : 1\n",
      "esto : 1\n",
      "lo : 2\n",
      "pone : 1\n",
      "nervioso, : 1\n",
      "distrae : 1\n",
      "del : 2\n",
      "trabajo; : 1\n",
      "además, : 1\n",
      "fastidia : 1\n",
      "que, : 1\n",
      "justamente : 1\n",
      "él, : 1\n",
      "deba : 1\n",
      "ser : 1\n",
      "excluido : 1\n",
      "espectáculo : 1\n"
     ]
    }
   ],
   "source": [
    "# Type the code here:\n",
    "\n",
    "# Create an empty dictionary\n",
    "d = dict()\n",
    "with open(\"Files/Mixing_writers.txt\", \"r\", encoding='utf-8') as text:\n",
    "\n",
    "    # Loop through each line of the file\n",
    "    for line in text:\n",
    "        # Remove the leading spaces and newline character\n",
    "        line = line.strip()\n",
    "        # Split the line into words\n",
    "        words = line.split(\" \")\n",
    "        # Strip of punctuation characters\n",
    "        # Convert the characters in line to lowercase to avoid case mismatch\n",
    "        words = [w.strip('.[]').lower() for w in words]\n",
    "\n",
    "        # Iterate over each word in line\n",
    "        for word in words:\n",
    "            # Check if the word is already in dictionary\n",
    "            if word in d:\n",
    "                # Increment count of word by 1\n",
    "                d[word] = d[word] + 1\n",
    "            else:\n",
    "                # Add the word to dictionary with count 1\n",
    "                d[word] = 1\n",
    "\n",
    "# Print the contents of dictionary\n",
    "for key in list(d.keys()):\n",
    "    print(key, \":\", d[key])"
   ]
  },
  {
   "cell_type": "markdown",
   "id": "dd6c0047",
   "metadata": {},
   "source": [
    "## Otitis patient information in nested dictionaries\n",
    "\n",
    "Below you can find a dictionary with patients along with personal information (only the first surname of each patient was recorded, but all the names that appear on the DNI) and their diagnosis in Boolean format if they suffer from chronic otitis."
   ]
  },
  {
   "cell_type": "code",
   "execution_count": 167,
   "id": "6587f639",
   "metadata": {},
   "outputs": [
    {
     "data": {
      "text/plain": [
       "{'Leopoldo Vidal-Ribas': {'age': 49, 'gender': 'male', 'otitis': True},\n",
       " 'Clota Anastasia Sagnier': {'age': 17, 'gender': 'female', 'otitis': False},\n",
       " 'Noah Costa': {'age': 32, 'gender': 'non-binary', 'otitis': False},\n",
       " 'María Camila Elisa Valente': {'age': 67,\n",
       "  'gender': 'female',\n",
       "  'otitis': False},\n",
       " 'Lucrecia Stanislawsky': {'age': 13, 'gender': 'female', 'otitis': True},\n",
       " 'Omar Casimiro Recolons': {'age': 51, 'gender': 'male', 'otitis': False}}"
      ]
     },
     "execution_count": 167,
     "metadata": {},
     "output_type": "execute_result"
    }
   ],
   "source": [
    "patients = {'Leopoldo Vidal-Ribas': {'age': 49, 'gender': 'male', 'otitis': True},\n",
    "            'Clota Anastasia Sagnier': {'age': 17, 'gender': 'female', 'otitis': False},\n",
    "            'Noah Costa': {'age': 32, 'gender': 'non-binary', 'otitis': False},\n",
    "            'María Camila Elisa Valente': {'age': 67, 'gender': 'female', 'otitis': False},\n",
    "            'Lucrecia Stanislawsky': {'age': 13, 'gender': 'female', 'otitis': True},\n",
    "            'Omar Casimiro Recolons': {'age': 51, 'gender': 'male', 'otitis': False},\n",
    "           }\n",
    "patients"
   ]
  },
  {
   "cell_type": "markdown",
   "id": "4091205f",
   "metadata": {},
   "source": [
    "We want to deliver this information in a .txt file with a structure that can be used as a database/dataframe<a name=\"cite_ref-1\"></a>[<sup>[1]</sup>](#cite_note-1). The required structure goes as follows:\n",
    "\n",
    "- A first line of heder with the fields 'surname', 'age', 'gender' and 'otitis', separated by tabs. Except for the surname, generate the headers ('age', 'gender' and 'otitis') using the keys of the patients dictionary.\n",
    "\n",
    "\n",
    "- The successive lines must contain the information of each patient in the same order as the header. Fields must always be separated by tabs on each line. Generate the entire content of the .txt using control flow statements; the algoritm must be automated for future check-ins.\n",
    "  \n",
    "  For the \"otitis\" field, it would be nice to replace the boolean `True`/`False` with `\"yes\"`/`\"no\"`. \n",
    "  \n",
    "The file must be built as required.\n",
    "\n",
    "<br>\n",
    "\n",
    "<a name=\"cite_note-1\"></a> [[1]](#cite_ref-1) You can research what databese and dataframes are.\n"
   ]
  },
  {
   "cell_type": "code",
   "execution_count": 168,
   "id": "7fc86d6e",
   "metadata": {},
   "outputs": [],
   "source": [
    "# Type the code here:\n",
    "\n",
    "with open('Files/patients.txt', 'w') as file_patients:\n",
    "\n",
    "    # For header:\n",
    "    header_list = ['surname']\n",
    "    for header in list(patients[list(patients.keys())[0]].keys()):\n",
    "        header_list.append(header)\n",
    "        \n",
    "    #print(header_list)\n",
    "    \n",
    "    # For rows (each patient):\n",
    "    all_partient_list = []\n",
    "    for k, v in patients.items():\n",
    "        patient_sublist = [k.split()[-1]]\n",
    "        for sub_k, sub_v in v.items():\n",
    "            #print(sub_v)\n",
    "            patient_sublist.append(\"yes\" if sub_v == True else \"no\" if sub_v == False else str(sub_v))\n",
    "        \n",
    "        all_partient_list.append(patient_sublist)\n",
    "        #print (k, patient_sublist, all_partient_list)\n",
    "    \n",
    "    #print(all_partient_list)\n",
    "    \n",
    "    # Write the file with the created lists:\n",
    "    file_patients.write('\\t'.join(header_list))\n",
    "    file_patients.write('\\n')\n",
    "    for sublist in all_partient_list:\n",
    "        file_patients.write('\\t'.join(sublist))\n",
    "        file_patients.write('\\n')\n",
    "        #print(sublist)"
   ]
  },
  {
   "cell_type": "code",
   "execution_count": 169,
   "id": "f1cb444b",
   "metadata": {
    "scrolled": true
   },
   "outputs": [
    {
     "name": "stdout",
     "output_type": "stream",
     "text": [
      "surname\tage\tgender\totitis\n",
      "Vidal-Ribas\t49\tmale\tyes\n",
      "Sagnier\t17\tfemale\tno\n",
      "Costa\t32\tnon-binary\tno\n",
      "Valente\t67\tfemale\tno\n",
      "Stanislawsky\t13\tfemale\tyes\n",
      "Recolons\t51\tmale\tno\n",
      "\n"
     ]
    }
   ],
   "source": [
    "with open('Files/patients.txt', 'r') as f:\n",
    "    print(f.read())"
   ]
  },
  {
   "cell_type": "markdown",
   "id": "8965fd4f",
   "metadata": {},
   "source": [
    "## File content multiplier function\n",
    "\n",
    "See problem **11 Fibonacci? Who is Fibonacci?** from '*3.3-Control_flow_tasks*'."
   ]
  },
  {
   "cell_type": "markdown",
   "id": "7699d055",
   "metadata": {},
   "source": [
    "Write a function called `file_content_multiplier` that takes the numerical content of a .txt file and returns the product of all the numbers it contains.\n",
    "\n",
    "The structure of the .txt that the function must read is a sequence of numbers separated by hyphens: these are the numbers to multiply.\n",
    "\n",
    "In addition to writing the function, which should be reusable for any file with this structure, write a test file to check that the function actually works. Do we use the Fibonacci sequence? So we can recycle already written code, buuuut with some modifications to learn something new ;)\n",
    "\n",
    "- **Test file preparation:** write a program that creates a file called \"Fibo\" with the first 10 even terms of the Fibonacci sequence separated by hyphens (review the exercise if needed).\n",
    "\n",
    "  Use at least one higer-order function where you deem suitable.\n",
    "\n",
    "  0 is odd or even? You will have to leave it aside. Can you imagine why? \n",
    "\n",
    "\n",
    "- Write a function whose only parameter is the name of the file (without a directory or .txt format), which reads the file and returns the result of multiplying all the numbers it contains.\n",
    "\n",
    "  This time, can you please use at least two higher-order functions inside the function `file_content_multiplier`?\n",
    "\n",
    "<br>\n",
    "\n",
    "**Do you want a little help?** \n",
    "\n",
    "The solution is `10241959016027943927469729382400` \n",
    "\n",
    "because\n",
    "\n",
    "`2 * 8 * 34 * 144 * 610 * 2584 * 10946 * 46368 * 196418 * 832040 = 10241959016027943927469729382400`"
   ]
  },
  {
   "cell_type": "code",
   "execution_count": 141,
   "id": "7cc29cea",
   "metadata": {},
   "outputs": [
    {
     "name": "stdout",
     "output_type": "stream",
     "text": [
      "2-8-34-144-610-2584-10946-46368-196418-832040 31 11\n"
     ]
    }
   ],
   "source": [
    "# Type the code here:\n",
    "# File preparation:\n",
    "\n",
    "f0, f1 = 0, 1\n",
    "count_odd = count = 1\n",
    "list_for_string = list()\n",
    "\n",
    "while count_odd <= 10:\n",
    "    #print('Term',count, ' --> ', f0)\n",
    "\n",
    "    fn = f1 + f0\n",
    "    f0 = f1\n",
    "    f1 = fn\n",
    "    \n",
    "    count += 1\n",
    "\n",
    "    if f0 % 2 == 0:\n",
    "        #print(count_odd,f0)\n",
    "        count_odd += 1\n",
    "        list_for_string.append(f0)\n",
    "\n",
    "list_of_string = list(map(str, list_for_string))\n",
    "\n",
    "string_of_strings = '-'.join(list_of_string)\n",
    "\n",
    "print(string_of_strings, count, count_odd)\n",
    "\n",
    "with open('Files/Fibo.txt', 'w') as file_Fibo:\n",
    "    file_Fibo.write(string_of_strings)"
   ]
  },
  {
   "cell_type": "code",
   "execution_count": 143,
   "id": "81926aab",
   "metadata": {},
   "outputs": [],
   "source": [
    "# Type the code here:\n",
    "# file_content_multiplier function\n",
    "\n",
    "from functools import reduce\n",
    "\n",
    "def file_content_multiplier(file_name):\n",
    "    '''\n",
    "    Opens a file by its argument and compute the product of all numbers \n",
    "    inside it when they are separated by hyphens \n",
    "    '''\n",
    "    with open('Files/'+file_name+'.txt','r') as file_Fibo:\n",
    "        list_of_int = list(map(int,file_Fibo.readline().split('-')))\n",
    "        \n",
    "        return reduce((lambda x, y: x * y), list_of_int)"
   ]
  },
  {
   "cell_type": "code",
   "execution_count": 144,
   "id": "35e29f8a",
   "metadata": {},
   "outputs": [
    {
     "data": {
      "text/plain": [
       "10241959016027943927469729382400"
      ]
     },
     "execution_count": 144,
     "metadata": {},
     "output_type": "execute_result"
    }
   ],
   "source": [
    "file_content_multiplier('Fibo')"
   ]
  },
  {
   "cell_type": "markdown",
   "id": "78733554",
   "metadata": {},
   "source": [
    "## Extracting data from a database\n",
    "\n",
    "Let us use the recently created patient .txt file to extract data of interest. Select adult patients (over 20 years of age) who are hearing healthy. Return a .txt file with that information.\n",
    "\n",
    "Each patient must be stored on a new line and their features (surname, age, sex and otitis) must be separated by commas<a name=\"cite_ref-1\"></a>[<sup>[1]</sup>](#cite_note-1).\n",
    "\n",
    "Always encapsulate methods and procedures within functions. Create at least 4 functions: one to read the file, one to filter patients of interest, and one to write the .txt file. For the fourth mandatory function you have free will to do what you want. Remember that functions can call functions. Implement this. Also use as many arguments as you can in each function. In this way, when executing the functions, the original file is read and as a result, another file is returned with the selected patients with their features separated by commas. \n",
    "\n",
    "<br>\n",
    "\n",
    "<a name=\"cite_note-1\"></a> [[1]](#cite_ref-1) Comma separaated values is a usual structure for storing dataframes. Did you Google it?"
   ]
  },
  {
   "cell_type": "code",
   "execution_count": 216,
   "id": "47677ad0",
   "metadata": {},
   "outputs": [],
   "source": [
    "# Type the code here:\n",
    "\n",
    "def read_patients_file(file_name):\n",
    "    '''\n",
    "    Read the patients file. \n",
    "    Returns a list of dictionaries with the information of each patient in each.\n",
    "    '''\n",
    "    with open(file_name, \"r\") as f:\n",
    "        # skip the first line (header) when reading in a list\n",
    "        next(f)\n",
    "        # list for appending patients' dictionaries\n",
    "        patients_list = []\n",
    "        for line in f:\n",
    "            line = line.strip()\n",
    "            surname, age, gender, otitis = line.split()\n",
    "            age = int(age)\n",
    "            # create a dictionary for each patient\n",
    "            patients_dict = {'surname': surname,\n",
    "                            'age': age,\n",
    "                            'gender': gender,\n",
    "                            'otitis': otitis}\n",
    "            patients_list.append(patients_dict)\n",
    "            \n",
    "        return patients_list"
   ]
  },
  {
   "cell_type": "code",
   "execution_count": 244,
   "id": "75765111",
   "metadata": {},
   "outputs": [],
   "source": [
    "def filter_patients(list_of_patients, min_age = 20, otitis = True):\n",
    "    '''\n",
    "    This function requires a list of patients. \n",
    "    It returns a new list with filtered patients.\n",
    "    Default arguments are min_age = 20 which is the minimum age at which a patient is accepted, \n",
    "    and otitis = true which indicates what kind of patients are accepted.\n",
    "    '''\n",
    "    \n",
    "    filtered_patients = []\n",
    "    for patient in list_of_patients:\n",
    "        if (patient['age'] >= 20 and patient['otitis'] == 'no'):\n",
    "            filtered_patients.append(patient)\n",
    "    return(filtered_patients)"
   ]
  },
  {
   "cell_type": "code",
   "execution_count": 277,
   "id": "95dc45b2",
   "metadata": {},
   "outputs": [],
   "source": [
    "def create_patient_line(patient_dictionary):\n",
    "    '''\n",
    "    This function converts a dictionary to a string.\n",
    "    '''\n",
    "    line_list = []\n",
    "    for v in patient_dictionary.values():\n",
    "        line_list.append(str(v))\n",
    "    line = ','.join(line_list)\n",
    "\n",
    "    return line\n",
    "\n",
    "def write_filt_patients_file(list_of_patients):\n",
    "    '''\n",
    "    This function requires a list of patients. \n",
    "    Returns a .txt file with patients.\n",
    "    '''\n",
    "    list_of_lines = []\n",
    "    for patient in list_of_patients:\n",
    "        list_of_lines.append(create_patient_line(patient))\n",
    "    \n",
    "    with open ('Files/patients_filtered.txt', 'w') as fp:        \n",
    "        fp.write('\\n'.join(list_of_lines))"
   ]
  },
  {
   "cell_type": "code",
   "execution_count": 220,
   "id": "2763d14b",
   "metadata": {},
   "outputs": [],
   "source": [
    "patients_list = read_patients_file(\"Files/patients.txt\")\n",
    "\n",
    "filter_patients = filter_patients(patients_list)\n",
    "\n",
    "write_filt_patients_file(filter_patients)"
   ]
  },
  {
   "cell_type": "code",
   "execution_count": 279,
   "id": "e104eefb",
   "metadata": {},
   "outputs": [
    {
     "name": "stdout",
     "output_type": "stream",
     "text": [
      "Costa,32,non-binary,no\n",
      "Valente,67,female,no\n",
      "Recolons,51,male,no\n"
     ]
    }
   ],
   "source": [
    "with open('Files/patients_filtered.txt', 'r') as f:\n",
    "    print(f.read())"
   ]
  },
  {
   "cell_type": "markdown",
   "id": "322ba2d6",
   "metadata": {},
   "source": [
    "## Cryptocurrency\n",
    "\n",
    "**Text preparation:** Run the following cells:\n",
    "\n",
    "**Contents:** Evolution of cryptos prices in 2022, 2021, 2020, 2019 and 2018 (in this order)"
   ]
  },
  {
   "cell_type": "code",
   "execution_count": 281,
   "id": "e483315e",
   "metadata": {},
   "outputs": [],
   "source": [
    "lines = ['Bitcoin: 47_345.22 - 29_374.15 - 7_200.17 - 3_843.52 - 15_599.20',\n",
    "         'Ethereum: 3_829.57 - 975.51 - 134.17 - 155.05 - 772.64',\n",
    "         'Tether: 1.0005 - 1.0006 - 0.9998 - 1.0172 - 1.0049',\n",
    "         'BNB: 531.40 - 38.24 - 13.03 - 6.1886 - 8.4146',\n",
    "         'XRP: 0.8591 - 0.2374 - 0.1944 - 0.3602 - 3.0487',\n",
    "         'Monero: 250.21 - 138.06 - 45.75 - 49.82 - 412.06']\n",
    "\n",
    "with open('Files/cryptocurrency.txt', 'w') as f:\n",
    "    for line in lines:\n",
    "        f.write(line)\n",
    "        f.write('\\n')"
   ]
  },
  {
   "cell_type": "code",
   "execution_count": 282,
   "id": "1d6df869",
   "metadata": {},
   "outputs": [
    {
     "name": "stdout",
     "output_type": "stream",
     "text": [
      "Bitcoin: 47_345.22 - 29_374.15 - 7_200.17 - 3_843.52 - 15_599.20\n",
      "Ethereum: 3_829.57 - 975.51 - 134.17 - 155.05 - 772.64\n",
      "Tether: 1.0005 - 1.0006 - 0.9998 - 1.0172 - 1.0049\n",
      "BNB: 531.40 - 38.24 - 13.03 - 6.1886 - 8.4146\n",
      "XRP: 0.8591 - 0.2374 - 0.1944 - 0.3602 - 3.0487\n",
      "Monero: 250.21 - 138.06 - 45.75 - 49.82 - 412.06\n",
      "\n"
     ]
    }
   ],
   "source": [
    "with open('Files/cryptocurrency.txt', 'r') as f:\n",
    "    print(f.read())"
   ]
  },
  {
   "cell_type": "markdown",
   "id": "c0b56abd",
   "metadata": {},
   "source": [
    "**Task:**\n",
    "\n",
    "In the file called cryptocurrency.txt you can find the annual evolution of prices of 6 different cryptocurrencies between 2018 and 2022.\n",
    "\n",
    "Write an algorithm that reads this file, calculates the average value of each cryptocurrency in the 5 recorded years, and compares this value with its price in 2018. As output, all cryptocurrencies should be classified in 3 different cases. Each case must be characterized by one of the following texts that must be printed on screen:\n",
    "\n",
    "- The average price of .....cripto_name..... in the last 5 years fell more than 20% compared to its value in 2018.\n",
    "\n",
    "- The average price of .....cripto_name..... in the last 5 years rose more than 20% compared to its value in 2018.\n",
    "\n",
    "- The average price of .....cripto_name..... in the last 5 years remained more or less constant compared to its value in 2018.\n",
    "\n",
    "depending on what has happened with each cryptocurrency.\n",
    "\n",
    "In addition, the algorithm must create a file with the printed information.\n",
    "\n",
    "**You must uase at least one higher-order function.** \n",
    "\n",
    "The one you like most!\n",
    "\n",
    "<br/>\n",
    "\n",
    "**Tip:** You can take advantage of [Regular Expression Operations](https://docs.python.org/3/library/re.html) to split a line by more than one character. See how to do it on Google. Be careful! The syntax is slightly different when you use split with this module."
   ]
  },
  {
   "cell_type": "code",
   "execution_count": 284,
   "id": "e122fffd",
   "metadata": {},
   "outputs": [
    {
     "name": "stdout",
     "output_type": "stream",
     "text": [
      "The average price of Bitcoin in the last 5 years rose more than 20% compared to its value in 2018.\n",
      "The average price of Ethereum in the last 5 years rose more than 20% compared to its value in 2018.\n",
      "The average price of Tether in the last 5 years remained more or less constant compared to its value in 2018.\n",
      "The average price of BNB in the last 5 years rose more than 20% compared to its value in 2018.\n",
      "The average price of XRP in the last 5 years fell more than 20% compared to its value in 2018.\n",
      "The average price of Monero in the last 5 years fell more than 20% compared to its value in 2018.\n"
     ]
    }
   ],
   "source": [
    "# Type the code here:\n",
    "import re\n",
    "\n",
    "with open('Files/cryptocurrency.txt', 'r') as cripto_file:\n",
    "    \n",
    "# file separation of interest has different characters to be split by\n",
    "    for cripto in cripto_file:\n",
    "        cripto_list = re.split(': | - ', cripto.strip())\n",
    "        name = cripto_list[0]\n",
    "        value = list(map(float, cripto_list[1:]))\n",
    "        mean_cripto = sum(value)/len(value)\n",
    "        \n",
    "#        print(name,mean_cripto, value[-1])\n",
    "        if mean_cripto < value[-1]*0.8:\n",
    "            print(f'The average price of {name} in the last 5 years fell more than 20% compared to its value in 2018.')\n",
    "            \n",
    "        elif mean_cripto > value[-1]*1.20:\n",
    "            print(f'The average price of {name} in the last 5 years rose more than 20% compared to its value in 2018.')\n",
    "        \n",
    "        else:\n",
    "            print(f'The average price of {name} in the last 5 years remained more or less constant compared to its value in 2018.')"
   ]
  }
 ],
 "metadata": {
  "kernelspec": {
   "display_name": "Python 3 (ipykernel)",
   "language": "python",
   "name": "python3"
  },
  "language_info": {
   "codemirror_mode": {
    "name": "ipython",
    "version": 3
   },
   "file_extension": ".py",
   "mimetype": "text/x-python",
   "name": "python",
   "nbconvert_exporter": "python",
   "pygments_lexer": "ipython3",
   "version": "3.9.12"
  },
  "toc": {
   "base_numbering": 1,
   "nav_menu": {},
   "number_sections": true,
   "sideBar": true,
   "skip_h1_title": true,
   "title_cell": "Table of Contents",
   "title_sidebar": "Contents",
   "toc_cell": false,
   "toc_position": {
    "height": "calc(100% - 180px)",
    "left": "10px",
    "top": "150px",
    "width": "203.108px"
   },
   "toc_section_display": true,
   "toc_window_display": true
  }
 },
 "nbformat": 4,
 "nbformat_minor": 5
}
